{
 "metadata": {
  "name": "",
  "signature": "sha256:6fb3f182150a5ee84a375b6306bcbd44e69d9b9f0880afe3ef2cb64ce46eeaf3",
  "sunpy-gallery": {
   "author": "Keith Hughitt <khughitt@umd.edu>",
   "date": "November 2013",
   "link_name": "AIA Plotting",
   "published": true,
   "section_name": "Maps"
  }
 },
 "nbformat": 3,
 "nbformat_minor": 0,
 "worksheets": [
  {
   "cells": [
    {
     "cell_type": "markdown",
     "metadata": {},
     "source": [
      "A Simple AIA plot\n",
      "=================\n",
      "To begin, let's import SunPy, and load one of the included sample maps."
     ]
    },
    {
     "cell_type": "markdown",
     "metadata": {},
     "source": [
      "Looks good! Let's see what our Map looks like."
     ]
    },
    {
     "cell_type": "code",
     "collapsed": false,
     "input": [
      "%matplotlib inline\n",
      "\n",
      "import sunpy\n",
      "import sunpy.map"
     ],
     "language": "python",
     "metadata": {},
     "outputs": []
    },
    {
     "cell_type": "markdown",
     "metadata": {},
     "source": [
      "`sunpy.AIA_171_IMAGE` is just a FITS file distributed with SunPy. You can replace it with a path to any FITS file on your drive."
     ]
    },
    {
     "cell_type": "code",
     "collapsed": false,
     "input": [
      "aia = sunpy.map.Map(sunpy.AIA_171_IMAGE)"
     ],
     "language": "python",
     "metadata": {},
     "outputs": []
    },
    {
     "cell_type": "code",
     "collapsed": false,
     "input": [
      "aia.peek()"
     ],
     "language": "python",
     "metadata": {},
     "outputs": []
    },
    {
     "cell_type": "markdown",
     "metadata": {},
     "source": [
      "Using IPython, we can easily inspect the properties of the Map:"
     ]
    },
    {
     "cell_type": "code",
     "collapsed": false,
     "input": [
      "aia"
     ],
     "language": "python",
     "metadata": {},
     "outputs": []
    }
   ],
   "metadata": {}
  }
 ]
}