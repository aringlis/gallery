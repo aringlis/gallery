{
 "metadata": {
  "name": "",
  "signature": "sha256:63f59deb2869fd8194dad364c58ab34fa02681a204cca263e5a243b4e8ebaebb",
  "sunpy-gallery": {
   "author": "Andrew Leonard",
   "date": "June 2014",
   "link_name": "Rotating and Aligining Maps",
   "published": true,
   "section_name": "Maps"
  }
 },
 "nbformat": 3,
 "nbformat_minor": 0,
 "worksheets": [
  {
   "cells": [
    {
     "cell_type": "heading",
     "level": 1,
     "metadata": {},
     "source": [
      "Demonstration of the new Map.rotate() and its use in aiaprep()"
     ]
    },
    {
     "cell_type": "heading",
     "level": 2,
     "metadata": {},
     "source": [
      "Implementation"
     ]
    },
    {
     "cell_type": "markdown",
     "metadata": {},
     "source": [
      "The actual rotation in Map.rotate() is performed by the affine_transform() function in sunpy.image.transform. This function takes a numpy array and rotates it based on a given rotation matrix. It can also scale and shift the array.\n",
      "\n",
      "Map.rotate() defines the neccessary parameters and updates the appropriate Map header values after the rotation. This does most of the work required for aiaprep(), which simply defines a scale factor and calls Map.rotate().\n",
      "\n",
      "Each of these functions will be demonstrated below."
     ]
    },
    {
     "cell_type": "heading",
     "level": 2,
     "metadata": {},
     "source": [
      "affine_transform()"
     ]
    },
    {
     "cell_type": "markdown",
     "metadata": {},
     "source": [
      "affine_transform() rotates the given image using skimage.transform.AffineTransform and skimage.transform.warp(). The rotation matrix corresponding to the desired transformation is given as input to affine_transform()"
     ]
    },
    {
     "cell_type": "code",
     "collapsed": false,
     "input": [
      "# Import statements etc. Nothing unusual here.\n",
      "import numpy as np\n",
      "import sunpy\n",
      "from sunpy.image.transform import affine_transform\n",
      "from sunpy.instr.aia import aiaprep\n",
      "import matplotlib.pyplot as plt\n",
      "import matplotlib.cm as cm\n",
      "from skimage.data import camera\n",
      "%matplotlib inline\n",
      "\n",
      "# Open demo image.\n",
      "testdata = camera().astype('float')\n",
      "\n",
      "# Rotate the image 90 degrees anti-clockwise around the centre of the array.\n",
      "rotdata = affine_transform(testdata, np.array([[0, -1], [1, 0]]))\n",
      "\n",
      "# Plot the original map against the rotated image.\n",
      "fig = plt.figure(figsize=(12, 9))\n",
      "fig.add_subplot(1, 2, 1)\n",
      "plt.imshow(testdata, cmap=cm.Greys_r)\n",
      "plt.title('Original image')\n",
      "fig.add_subplot(1, 2, 2)\n",
      "plt.imshow(rotdata, cmap=cm.Greys_r)\n",
      "plt.title('Rotated using affine_transform()')\n",
      "plt.show()"
     ],
     "language": "python",
     "metadata": {},
     "outputs": []
    },
    {
     "cell_type": "markdown",
     "metadata": {},
     "source": [
      "It can also rotate the image around a user-defined pixel position (which can be moved to the centre of the image or left where it is) and scale the image."
     ]
    },
    {
     "cell_type": "code",
     "collapsed": false,
     "input": [
      "# Rotate the image by 90 degrees, scale it to twice the original size and move the user-defined\n",
      "# image centre to the centre of the array.\n",
      "rotdata = affine_transform(testdata, np.array([[0, -1], [1, 0]]), scale=2.0,\n",
      "                           image_center=(400, 256), recenter=True)\n",
      "\n",
      "# Plot the original map against the rotated image.\n",
      "fig = plt.figure(figsize=(12, 9))\n",
      "fig.add_subplot(1, 2, 1)\n",
      "plt.imshow(testdata, cmap=cm.Greys_r)\n",
      "plt.title('Original image')\n",
      "fig.add_subplot(1, 2, 2)\n",
      "plt.imshow(rotdata, cmap=cm.Greys_r)\n",
      "plt.title('Rotated using affine_transform()')\n",
      "plt.show()"
     ],
     "language": "python",
     "metadata": {},
     "outputs": []
    },
    {
     "cell_type": "heading",
     "level": 2,
     "metadata": {},
     "source": [
      "Map.rotate()"
     ]
    },
    {
     "cell_type": "markdown",
     "metadata": {},
     "source": [
      "Map.rotate() can be given either an angle or a rotation matrix (with the angle and rmatrix keywords, respectively), which will be passed on to affine_transform() (an angle will first be converted into the corresponding rotation matrix). When called without arguments, the map data is rotated using the map's rotation_matrix attribute (which can be calculated using the 'crota2' keyword if the attribute doesn't already exist). This will align the map so that solar North is at the top of the image.\n",
      "\n",
      "The scale, image_center and recenter keywords can all be used with Map.rotate() to pass those values to affine_transform()."
     ]
    },
    {
     "cell_type": "heading",
     "level": 3,
     "metadata": {},
     "source": [
      "Default behaviour"
     ]
    },
    {
     "cell_type": "markdown",
     "metadata": {},
     "source": [
      "As mentioned above, Map.rotate() can be called with no arguments. In this case, the default behaviour is just to account for the rotation of the instrument."
     ]
    },
    {
     "cell_type": "code",
     "collapsed": false,
     "input": [
      "# Open image from AIA during an SDO roll maneuver.\n",
      "aiamap = sunpy.map.Map('/home/stuart/Dropbox/Stu and Lenny/aiacalibim5.fits')\n",
      "\n",
      "# Rotate your owl.\n",
      "rotmap = aiamap.rotate()\n",
      "\n",
      "# Plot original image against the rotated image\n",
      "fig = plt.figure(figsize=(12, 9))\n",
      "fig.add_subplot(1, 2, 1)\n",
      "aiamap.plot()\n",
      "plt.title('Original image')\n",
      "fig.add_subplot(1, 2, 2)\n",
      "rotmap.plot()\n",
      "plt.title('Image corrected for AIA rotation')\n",
      "plt.show()"
     ],
     "language": "python",
     "metadata": {},
     "outputs": []
    },
    {
     "cell_type": "heading",
     "level": 3,
     "metadata": {},
     "source": [
      "Rotation header info"
     ]
    },
    {
     "cell_type": "markdown",
     "metadata": {},
     "source": [
      "The original map used in the example above has a rotation angle of ~-45 degrees. The corresponding rotation matrix is stored in Map.rotation_matrix."
     ]
    },
    {
     "cell_type": "code",
     "collapsed": false,
     "input": [
      "# Print rotation info.\n",
      "print aiamap.rotation_matrix\n",
      "print aiamap.meta['crota2']"
     ],
     "language": "python",
     "metadata": {},
     "outputs": []
    },
    {
     "cell_type": "markdown",
     "metadata": {},
     "source": [
      "This information is automatically updated by Map.rotate() to account for the new orientation of the image."
     ]
    },
    {
     "cell_type": "code",
     "collapsed": false,
     "input": [
      "# Print things again.\n",
      "print rotmap.rotation_matrix\n",
      "print rotmap.meta['crota2']"
     ],
     "language": "python",
     "metadata": {},
     "outputs": []
    },
    {
     "cell_type": "markdown",
     "metadata": {},
     "source": [
      "Note that the 'crota2' keyword has been removed from the map metadata after rotation."
     ]
    },
    {
     "cell_type": "heading",
     "level": 3,
     "metadata": {},
     "source": [
      "Use with other instruments"
     ]
    },
    {
     "cell_type": "markdown",
     "metadata": {},
     "source": [
      "Although it is being demonstrated here in the context of its uses for aiaprep(), Map.rotate() can be used with any Map with WCS header data. For example, STEREO data:"
     ]
    },
    {
     "cell_type": "code",
     "collapsed": false,
     "input": [
      "# Open image from EUVI during a STEREO roll maneuver.\n",
      "stereomap = sunpy.map.Map('/home/stuart/Dropbox/Stu and Lenny/stereo_rot_demo.fts')\n",
      "\n",
      "# Rotate the image by 90 degrees around the centre of the array.\n",
      "rotmap = stereomap.rotate()\n",
      "\n",
      "# Plot the original map against the rotated image.\n",
      "fig = plt.figure(figsize=(12, 9))\n",
      "fig.add_subplot(1, 2, 1)\n",
      "stereomap.plot(norm=aiamap.mpl_color_normalizer)\n",
      "plt.title('Original image')\n",
      "fig.add_subplot(1, 2, 2)\n",
      "rotmap.plot(norm=aiamap.mpl_color_normalizer)\n",
      "plt.title('Image corrected for STEREO rotation')\n",
      "plt.show()"
     ],
     "language": "python",
     "metadata": {},
     "outputs": []
    },
    {
     "cell_type": "heading",
     "level": 2,
     "metadata": {},
     "source": [
      "aiaprep()"
     ]
    },
    {
     "cell_type": "heading",
     "level": 3,
     "metadata": {},
     "source": [
      "Purpose of aiaprep()"
     ]
    },
    {
     "cell_type": "markdown",
     "metadata": {},
     "source": [
      "aiaprep() is the SunPy implementation of IDL's aia_prep() function, which processes an AIA image from level 1 to level 1.5. This processing consists of rotating the image to align solar North with the top of the image, moving the solar centre to the centre of the image, and rescaling the image so that each pixel is exactly 0.6 arcsec square.\n",
      "\n",
      "This function WILL NOT give the same results as the IDL version, and it isn't intended to - the functions serve the same purpose but use different transformations to process the image."
     ]
    },
    {
     "cell_type": "heading",
     "level": 3,
     "metadata": {},
     "source": [
      "Implementation"
     ]
    },
    {
     "cell_type": "markdown",
     "metadata": {},
     "source": [
      "aiaprep() calls Map.rotate() with the default rotation to align solar North to the top of the image. It also moves solar centre to the centre of the image using the 'recenter' keyword and calculates the factor required to rescale the image to 0.6 arcsec/pixel. The correction for rotation can be seen by using the same AIA image as in the example as above:"
     ]
    },
    {
     "cell_type": "code",
     "collapsed": false,
     "input": [
      "# Process the AIA image\n",
      "prepmap = aiaprep(aiamap)\n",
      "\n",
      "# Plot original image against the processed image\n",
      "fig = plt.figure(figsize=(12, 9))\n",
      "fig.add_subplot(1, 2, 1)\n",
      "aiamap.plot()\n",
      "plt.title('Original image')\n",
      "fig.add_subplot(1, 2, 2)\n",
      "prepmap.plot()\n",
      "plt.title('Processed image')\n",
      "plt.show()"
     ],
     "language": "python",
     "metadata": {},
     "outputs": []
    },
    {
     "cell_type": "markdown",
     "metadata": {},
     "source": [
      "Similarly, the correction for the instrument offset can be demonstrated by looking at an image taken during a cross maneuver:"
     ]
    },
    {
     "cell_type": "code",
     "collapsed": false,
     "input": [
      "# Open image from AIA during an SDO cross maneuver.\n",
      "aiamap = sunpy.map.Map('/home/stuart/Dropbox/Stu and Lenny/aiacalibim1.fits')\n",
      "\n",
      "# Process the AIA image\n",
      "prepmap = aiaprep(aiamap)\n",
      "\n",
      "# Plot original image against the processed image\n",
      "fig = plt.figure(figsize=(12, 9))\n",
      "fig.add_subplot(1, 2, 1)\n",
      "aiamap.plot()\n",
      "aiamap.draw_grid()\n",
      "plt.title('Original image')\n",
      "fig.add_subplot(1, 2, 2)\n",
      "prepmap.plot()\n",
      "prepmap.draw_grid()\n",
      "plt.title('Processed image')\n",
      "plt.show()"
     ],
     "language": "python",
     "metadata": {},
     "outputs": []
    },
    {
     "cell_type": "markdown",
     "metadata": {},
     "source": [
      "Notice that the latitude/longitude grid has been correctly drawn on the processed image, demonstrating that the WCS header information has been updated to account for the shift of the image."
     ]
    }
   ],
   "metadata": {}
  }
 ]
}